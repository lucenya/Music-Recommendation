{
 "cells": [
  {
   "cell_type": "markdown",
   "metadata": {},
   "source": [
    "### Items CF"
   ]
  },
  {
   "cell_type": "markdown",
   "metadata": {},
   "source": [
    "#### Load User Data"
   ]
  },
  {
   "cell_type": "code",
   "execution_count": 1,
   "metadata": {
    "collapsed": true
   },
   "outputs": [],
   "source": [
    "import numpy as np\n",
    "import pandas as pd\n",
    "import re\n",
    "\n",
    "songs_data = pd.read_csv('songs.csv', header = 0)"
   ]
  },
  {
   "cell_type": "code",
   "execution_count": 2,
   "metadata": {},
   "outputs": [
    {
     "name": "stdout",
     "output_type": "stream",
     "text": [
      "Index(['song_id', 'song_length', 'genre_ids', 'artist_name', 'composer',\n",
      "       'lyricist', 'language'],\n",
      "      dtype='object')\n"
     ]
    }
   ],
   "source": [
    "print(songs_data.columns)"
   ]
  },
  {
   "cell_type": "markdown",
   "metadata": {},
   "source": [
    "#### Get the number of unique genre_id "
   ]
  },
  {
   "cell_type": "code",
   "execution_count": 3,
   "metadata": {},
   "outputs": [
    {
     "name": "stdout",
     "output_type": "stream",
     "text": [
      "465              567911\n",
      "958              176349\n",
      "2022             168870\n",
      "1609             166457\n",
      "2122             139938\n",
      "1259             101485\n",
      "921               67578\n",
      "1152              48730\n",
      "359               43601\n",
      "786               42999\n",
      "726               34969\n",
      "139               34876\n",
      "1011              34013\n",
      "940               33490\n",
      "1572|275          24338\n",
      "1955              20980\n",
      "691               19472\n",
      "139|125|109       17613\n",
      "873               17542\n",
      "437               17212\n",
      "947               17106\n",
      "388               16776\n",
      "458               15438\n",
      "444               14859\n",
      "1616              14188\n",
      "242               13756\n",
      "451               13283\n",
      "880               13059\n",
      "423               11814\n",
      "829               11759\n",
      "                  ...  \n",
      "2130|2189|798         1\n",
      "423|1259              1\n",
      "242|359               1\n",
      "2122|242              1\n",
      "2130|1259             1\n",
      "465|822               1\n",
      "1208|139              1\n",
      "829|1259              1\n",
      "1208|1152             1\n",
      "2100|303              1\n",
      "1152|139              1\n",
      "430|1259              1\n",
      "921|1955              1\n",
      "465|1259|1180         1\n",
      "465|2122|423          1\n",
      "958|139               1\n",
      "893|986               1\n",
      "2107|359              1\n",
      "1970                  1\n",
      "444|880               1\n",
      "1609|437              1\n",
      "352|1944|1995         1\n",
      "921|691               1\n",
      "465|1609|2022         1\n",
      "465|1138|829          1\n",
      "444|1633              1\n",
      "1955|275|1572         1\n",
      "921|829               1\n",
      "275|2107|1572         1\n",
      "1208|786              1\n",
      "Name: genre_ids, Length: 1045, dtype: int64\n"
     ]
    }
   ],
   "source": [
    "print(songs_data['genre_ids'].value_counts())"
   ]
  },
  {
   "cell_type": "code",
   "execution_count": 23,
   "metadata": {
    "collapsed": true
   },
   "outputs": [],
   "source": [
    "def get_unique(X):\n",
    "    \"\"\"\n",
    "    X is one coloumn of song_data\n",
    "    \"\"\"\n",
    "    items = X.tolist()\n",
    "    result = []\n",
    "\n",
    "    for item in items:        \n",
    "        split_result = re.split('[|&]+', str(item))\n",
    "        for addition in split_result:\n",
    "            if addition not in result:\n",
    "                result.append(addition)\n",
    "        \n",
    "    return result   "
   ]
  },
  {
   "cell_type": "code",
   "execution_count": 24,
   "metadata": {},
   "outputs": [
    {
     "name": "stdout",
     "output_type": "stream",
     "text": [
      "192\n"
     ]
    }
   ],
   "source": [
    "genre = get_unique(songs_data['genre_ids'].unique())\n",
    "print(len(genre))"
   ]
  },
  {
   "cell_type": "code",
   "execution_count": 25,
   "metadata": {
    "collapsed": true
   },
   "outputs": [],
   "source": [
    "artist = get_unique(songs_data['artist_name'].unique())"
   ]
  },
  {
   "cell_type": "code",
   "execution_count": 26,
   "metadata": {},
   "outputs": [
    {
     "name": "stdout",
     "output_type": "stream",
     "text": [
      "['張信哲 (Jeff Chang)', 'BLACKPINK', 'SUPER JUNIOR', 'S.H.E', '貴族精選', '伍佰 ', ' China Blue', '光良 (Michael Wong)', '林俊傑 (JJ Lin)', 'Kodaline']\n",
      "247148\n",
      "<bound method Series.unique of 0                                           張信哲 (Jeff Chang)\n",
      "1                                                  BLACKPINK\n",
      "2                                               SUPER JUNIOR\n",
      "3                                                      S.H.E\n",
      "4                                                       貴族精選\n",
      "5                                                       貴族精選\n",
      "6                                            伍佰 & China Blue\n",
      "7                                          光良 (Michael Wong)\n",
      "8                                               林俊傑 (JJ Lin)\n",
      "9                                                   Kodaline\n",
      "10                                       D.L 羅時豐 (Daniel Lo)\n",
      "11                                                  白安 (Ann)\n",
      "12                                                Littlesong\n",
      "13                                             蔡旻佑 (Evan Yo)\n",
      "14                                                  Coldplay\n",
      "15                                             Maggie Rogers\n",
      "16                                 小男孩樂團 (Men Envy Children)\n",
      "17                                                   BIGBANG\n",
      "18                                               White Noise\n",
      "19                                               步步驚心主題曲原聲EP\n",
      "20                                                Katy Perry\n",
      "21                                            劉若英 (Rene Liu)\n",
      "22                                           傅又宣 (Maggie Fu)\n",
      "23                                           BIGBANG TAEYANG\n",
      "24                                   Danny Marquez & Ferry B\n",
      "25                            Kyary Pamyu Pamyu (きゃりーぱみゅぱみゅ)\n",
      "26                                          品冠 (Victor Wong)\n",
      "27                                                The Weeknd\n",
      "28                                        Marvin Gaye & Kygo\n",
      "29                                              五月天 (Mayday)\n",
      "                                 ...                        \n",
      "2296290                                       Charley Brownn\n",
      "2296291                                         Jason Nelson\n",
      "2296292                                         Amanda Perez\n",
      "2296293                                            鈴木理恵子/若林顕\n",
      "2296294                                               Mecano\n",
      "2296295                                         Peabo Bryson\n",
      "2296296                         Avaleya and The GlitterHawks\n",
      "2296297                                               Father\n",
      "2296298                                            FAIRCHILD\n",
      "2296299                                      Various Artists\n",
      "2296300                                   Seiji Ozawa (小澤征爾)\n",
      "2296301                                     Yin Yoga Academy\n",
      "2296302                                        Kenny Chesney\n",
      "2296303                     Renato pezzella| Renato Pezzella\n",
      "2296304                                    Felix Mendelssohn\n",
      "2296305                                                   欒生\n",
      "2296306                    Michael Silverman Jazz Piano Trio\n",
      "2296307                                        Philip Selway\n",
      "2296308                                           Noosa Hedz\n",
      "2296309    Bobby Gasparakis| Edo Mela| Bodega| Randy Garc...\n",
      "2296310                                   Orgel Carrol 오르골캐롤\n",
      "2296311                                          Karen Jonas\n",
      "2296312                                          The Jackals\n",
      "2296313                                      Various Artists\n",
      "2296314                     Art Blakey & The Jazz Messengers\n",
      "2296315                                    Catherine Collard\n",
      "2296316                                    紀文惠 (Justine Chi)\n",
      "2296317                                      Various Artists\n",
      "2296318                                    Peter Paul & Mary\n",
      "2296319                                        Kim Robertson\n",
      "Name: artist_name, Length: 2296320, dtype: object>\n",
      "['aj', 'dajfla', 'dajfsli']\n"
     ]
    }
   ],
   "source": [
    "print(artist[:10])\n",
    "print(len(artist))\n",
    "print(songs_data['artist_name'].unique)\n",
    "a= \"aj|dajfla&dajfsli\"\n",
    "print(re.split('[|&]+', a))"
   ]
  },
  {
   "cell_type": "code",
   "execution_count": null,
   "metadata": {
    "collapsed": true
   },
   "outputs": [],
   "source": []
  }
 ],
 "metadata": {
  "kernelspec": {
   "display_name": "Python 3",
   "language": "python",
   "name": "python3"
  },
  "language_info": {
   "codemirror_mode": {
    "name": "ipython",
    "version": 3
   },
   "file_extension": ".py",
   "mimetype": "text/x-python",
   "name": "python",
   "nbconvert_exporter": "python",
   "pygments_lexer": "ipython3",
   "version": "3.6.2"
  }
 },
 "nbformat": 4,
 "nbformat_minor": 2
}
