{
 "cells": [
  {
   "cell_type": "markdown",
   "metadata": {},
   "source": [
    "### Data Description\n",
    "In this task, you will be asked to predict the chances of a user listening to a song repetitively after the first observable listening event within a time window was triggered. If there are recurring listening event(s) triggered within a month after the user’s very first observable listening event, its target is marked 1, and 0 otherwise in the training set. The same rule applies to the testing set.\n",
    "\n",
    "KKBOX provides a training data set consists of information of the first observable listening event for each unique user-song pair within a specific time duration. Metadata of each unique user and song pair is also provided. The use of public data to increase the level of accuracy of your prediction is encouraged.\n",
    "\n",
    "The train and the test data are selected from users listening history in a given time period. Note that this time period is chosen to be before the WSDM-KKBox Churn Prediction time period. The train and test sets are split based on time, and the split of public/private are based on unique user/song pairs.\n",
    "\n",
    "#### Tables\n",
    "\n",
    "###### train.csv\n",
    "\n",
    "* msno: user id\n",
    "* song_id: song id\n",
    "* source_system_tab: the name of the tab where the event was triggered. System tabs are used to categorize KKBOX mobile apps functions. For example, tab my library contains functions to manipulate the local storage, and tab search contains functions relating to search.\n",
    "* source_screen_name: name of the layout a user sees.\n",
    "* source_type: an entry point a user first plays music on mobile apps. An entry point could be album, online-playlist, song .. etc.\n",
    "* target: this is the target variable. target=1 means there are recurring listening event(s) triggered within a month after the user’s very first observable listening event, target=0 otherwise .\n",
    "\n",
    "##### test.csv\n",
    "\n",
    "* id: row id (will be used for submission)\n",
    "* msno: user id\n",
    "* song_id: song id\n",
    "* source_system_tab: the name of the tab where the event was triggered. System tabs are used to categorize KKBOX mobile apps functions. For example, tab my library contains functions to manipulate the local storage, and tab search contains functions relating to search.\n",
    "* source_screen_name: name of the layout a user sees.\n",
    "* source_type: an entry point a user first plays music on mobile apps. An entry point could be album, online-playlist, song .. etc.\n",
    "\n",
    "###### sample_submission.csv\n",
    "\n",
    "sample submission file in the format that we expect you to submit\n",
    "\n",
    "* id: same as id in test.csv\n",
    "* target: this is the target variable. target=1 means there are recurring listening event(s) triggered within a month after the user’s very first observable listening event, target=0 otherwise .\n",
    "\n",
    "###### songs.csv\n",
    "\n",
    "The songs. Note that data is in unicode.\n",
    "\n",
    "* song_id\n",
    "* song_length: in ms\n",
    "* genre_ids: genre category. Some songs have multiple genres and they are separated by |\n",
    "* artist_name\n",
    "* composer\n",
    "* lyricist\n",
    "* language\n",
    "\n",
    "##### members.csv\n",
    "\n",
    "user information.\n",
    "\n",
    "* msno\n",
    "* city\n",
    "* bd: age. Note: this column has outlier values, please use your judgement.\n",
    "* gender\n",
    "* registered_via: registration method\n",
    "* registration_init_time: format %Y%m%d\n",
    "* expiration_date: format %Y%m%d\n",
    "\n",
    "##### song_extra_info.csv\n",
    "\n",
    "* song_id\n",
    "* song name - the name of the song.\n",
    "* isrc - International Standard Recording Code, theoretically can be used as an identity of a song. However, what worth to note is, ISRCs generated from providers have not been officially verified; therefore the information in ISRC, such as country code and reference year, can be misleading/incorrect. Multiple songs could share one ISRC since a single recording could be re-published several times."
   ]
  },
  {
   "cell_type": "markdown",
   "metadata": {},
   "source": [
    "#### Import library"
   ]
  },
  {
   "cell_type": "code",
   "execution_count": 1,
   "metadata": {
    "collapsed": true
   },
   "outputs": [],
   "source": [
    "import numpy as np\n",
    "import pandas as pd"
   ]
  },
  {
   "cell_type": "markdown",
   "metadata": {},
   "source": [
    "#### Load member data"
   ]
  },
  {
   "cell_type": "code",
   "execution_count": 2,
   "metadata": {
    "collapsed": true
   },
   "outputs": [],
   "source": [
    "parse_dates = ['registration_init_time', 'expiration_date']\n",
    "members_data = pd.read_csv('members.csv', header = 0, parse_dates=parse_dates)"
   ]
  },
  {
   "cell_type": "code",
   "execution_count": 3,
   "metadata": {},
   "outputs": [
    {
     "name": "stdout",
     "output_type": "stream",
     "text": [
      "                                           msno  city  bd gender  \\\n",
      "0  XQxgAYj3klVKjR3oxPPXYYFp4soD4TuBghkhMTD4oTw=     1   0    NaN   \n",
      "1  UizsfmJb9mV54qE9hCYyU07Va97c0lCRLEQX3ae+ztM=     1   0    NaN   \n",
      "2  D8nEhsIOBSoE6VthTaqDX8U6lqjJ7dLdr72mOyLya2A=     1   0    NaN   \n",
      "3  mCuD+tZ1hERA/o5GPqk38e041J8ZsBaLcu7nGoIIvhI=     1   0    NaN   \n",
      "4  q4HRBfVSssAFS9iRfxWrohxuk9kCYMKjHOEagUMV6rQ=     1   0    NaN   \n",
      "\n",
      "   registered_via registration_init_time expiration_date  \n",
      "0               7             2011-08-20      2017-09-20  \n",
      "1               7             2015-06-28      2017-06-22  \n",
      "2               4             2016-04-11      2017-07-12  \n",
      "3               9             2015-09-06      2015-09-07  \n",
      "4               4             2017-01-26      2017-06-13  \n",
      "               city            bd  registered_via\n",
      "count  34403.000000  34403.000000    34403.000000\n",
      "mean       5.371276     12.280935        5.953376\n",
      "std        6.243929     18.170251        2.287534\n",
      "min        1.000000    -43.000000        3.000000\n",
      "25%        1.000000      0.000000        4.000000\n",
      "50%        1.000000      0.000000        7.000000\n",
      "75%       10.000000     25.000000        9.000000\n",
      "max       22.000000   1051.000000       16.000000\n",
      "(34403, 7)\n"
     ]
    }
   ],
   "source": [
    "print(members_data.head())\n",
    "print(members_data.describe())\n",
    "print(members_data.shape)"
   ]
  },
  {
   "cell_type": "code",
   "execution_count": 4,
   "metadata": {},
   "outputs": [
    {
     "name": "stdout",
     "output_type": "stream",
     "text": [
      "city [ 1 13 12 15  5  6  4 11 18 22 14  8 20  3 17 10 16  9 21  7 19]\n",
      "age [   0   43   28   33   20   30   29   26   25   21   22   16   23   37   18\n",
      "   19   51   24   17   45   36   57   27   34   32   15   48   50   54   47\n",
      "   35   46   31   14   41   59    2   40   38   55   39   73   49   44  103\n",
      "   52   70   42   65   56  101   58   53   64   63   76   66   97    3   72\n",
      "   67   62   61  105   60   13   90   12   68  131   74   89  931  -38  144\n",
      "   85  112   96   11  102   83 1051   87    7   95  -43  111   93    5   78\n",
      " 1030  106  107   82   10]\n",
      "gender [nan 'female' 'male']\n",
      "registration_method [ 7  4  9  3 13 16]\n",
      "registration_date ['2011-08-20T00:00:00.000000000' '2015-06-28T00:00:00.000000000'\n",
      " '2016-04-11T00:00:00.000000000' ..., '2015-04-26T00:00:00.000000000'\n",
      " '2004-08-23T00:00:00.000000000' '2008-03-01T00:00:00.000000000']\n",
      "expiration_date ['2017-09-20T00:00:00.000000000' '2017-06-22T00:00:00.000000000'\n",
      " '2017-07-12T00:00:00.000000000' ..., '2013-03-24T00:00:00.000000000'\n",
      " '2014-07-03T00:00:00.000000000' '2018-12-28T00:00:00.000000000']\n"
     ]
    }
   ],
   "source": [
    "print('city', members_data['city'].unique())\n",
    "print('age', members_data['bd'].unique())\n",
    "print('gender', members_data['gender'].unique())\n",
    "print('registration_method', members_data['registered_via'].unique())\n",
    "print('registration_date', members_data['registration_init_time'].unique())\n",
    "print('expiration_date', members_data['expiration_date'].unique())"
   ]
  },
  {
   "cell_type": "markdown",
   "metadata": {},
   "source": [
    "#### Load Other Data"
   ]
  },
  {
   "cell_type": "code",
   "execution_count": 5,
   "metadata": {
    "collapsed": true
   },
   "outputs": [],
   "source": [
    "songs_data = pd.read_csv('songs.csv', header = 0)\n",
    "train_data = pd.read_csv('train.csv', header = 0)"
   ]
  },
  {
   "cell_type": "code",
   "execution_count": 6,
   "metadata": {},
   "outputs": [
    {
     "name": "stdout",
     "output_type": "stream",
     "text": [
      "song_id ['CXoTN1eb7AI+DntdU1vbcwGRV4SCIDxZu+YD8JP8r4E='\n",
      " 'o0kFgae9QtnYgRkVPqLJwa05zIhRlUjfF7O1tDw0ZDU='\n",
      " 'DwVvVurfpuz+XPuFvucclVQEyPqcpUkHR0ne1RQzPs0=' ...,\n",
      " '9KxSvIjbJyJzfEVWnkMbgR6dyn6d54ot0N5FKyKqii8='\n",
      " 'UO8Y2MR2sjOn2q/Tp8/lzZTGKmLEvwZ20oWanG4XnYc='\n",
      " 'V/9qPSUOGT0FeIGBhDIZRRz5Y5yyjdXC2Z/+bJExo5s=']\n",
      "song_length [247640 197328 231781 ...,  34046 576130 417100]\n",
      "genre_ids ['465' '444' '726' ..., '786|958|2022' '1259|2107' '1138|2022']\n",
      "artist_name ['張信哲 (Jeff Chang)' 'BLACKPINK' 'SUPER JUNIOR' ..., 'Charley Brownn'\n",
      " 'Avaleya and The GlitterHawks' 'Renato pezzella| Renato Pezzella']\n",
      "composer ['董貞' 'TEDDY|  FUTURE BOUNCE|  Bekuh BOOM' nan ..., 'Mawwell J. Mckinney'\n",
      " 'Adam Lyons| Nathan Lyons| Timothy Voeten| Patrick Huerto| Thomas Davies| James Haigh'\n",
      " 'Rodney Clawson| Vicky McGehee| David Lee Murphy']\n",
      "lyricist ['何啟弘' 'TEDDY' nan ..., 'Otoniel Santos' 'Stepz|Branco'\n",
      " 'Rodney Clawson| Vicky McGehee| David Lee Murphy']\n",
      "language [  3.  31.  52.  17.  10.  -1.  24.  59.  45.  38.  nan]\n"
     ]
    }
   ],
   "source": [
    "print('song_id', songs_data['song_id'].unique())\n",
    "print('song_length', songs_data['song_length'].unique())\n",
    "print('genre_ids', songs_data['genre_ids'].unique())\n",
    "print('artist_name', songs_data['artist_name'].unique())\n",
    "print('composer', songs_data['composer'].unique())\n",
    "print('lyricist', songs_data['lyricist'].unique())\n",
    "print('language', songs_data['language'].unique())"
   ]
  },
  {
   "cell_type": "code",
   "execution_count": 7,
   "metadata": {},
   "outputs": [
    {
     "name": "stdout",
     "output_type": "stream",
     "text": [
      "msno ['FGtllVqz18RPiwJj/edr2gV78zirAiY/9SmYvia+kCg='\n",
      " 'Xumu+NIjS6QYVxDS4/t3SawvJ7viT9hPKXmf0RtLNx8='\n",
      " 'uHqAtShXTRXju5GE8ri3ITsVFepPf8jUoCF7ffNOuqE=' ...,\n",
      " '4N9yZKANKrn3HQIBhoVhcTEhyyRceozpTcnnqsQ+gss='\n",
      " 'pSXUjXoK/eKqB0much1HvcBsOUTxPiCaC8WYUT/9fxg='\n",
      " 'oHMpaCQRI6fzq/jamfTvv5tFfukkE9/VERi7/CfQ9M0=']\n",
      "song_id ['BBzumQNXUHKdEBOB7mAJuzok+IJA1c2Ryg/yzTF6tik='\n",
      " 'bhp/MpSNoqoxOIB+/l8WPqu6jldth4DIpCm3ayXnJqM='\n",
      " 'JNWfrrC7zNN7BdMpsISKa4Mw+xVJYNnxXh3/Epw7QgY=' ...,\n",
      " 'SZZUaT+kWlIDkjgJqK5VJls94gArFT1BgkrFLjvJVIc='\n",
      " '7+DNPp8HiFDXlQmNejGezfdJ15eXGms1PmRCwtc+zVQ='\n",
      " 'WJzitiYM7ddyalCdx8/Gkkt1UFSp2t/0ZY74CrMGvWg=']\n",
      "source_system_tab ['explore' 'my library' 'search' 'discover' nan 'radio' 'listen with'\n",
      " 'notification' 'null' 'settings']\n",
      "source_screen_name ['Explore' 'Local playlist more' nan 'My library' 'Online playlist more'\n",
      " 'Album more' 'Discover Feature' 'Unknown' 'Discover Chart' 'Radio'\n",
      " 'Artist more' 'Search' 'Others profile more' 'Search Trends'\n",
      " 'Discover Genre' 'My library_Search' 'Search Home' 'Discover New'\n",
      " 'Self profile more' 'Concert' 'Payment']\n",
      "source_type ['online-playlist' 'local-playlist' 'local-library' 'top-hits-for-artist'\n",
      " 'album' nan 'song-based-playlist' 'radio' 'song' 'listen-with' 'artist'\n",
      " 'topic-article-playlist' 'my-daily-playlist']\n",
      "target [1 0]\n"
     ]
    }
   ],
   "source": [
    "print('msno', train_data['msno'].unique())\n",
    "print('song_id', train_data['song_id'].unique())\n",
    "print('source_system_tab', train_data['source_system_tab'].unique())\n",
    "print('source_screen_name', train_data['source_screen_name'].unique())\n",
    "print('source_type', train_data['source_type'].unique())\n",
    "print('target', train_data['target'].unique())"
   ]
  },
  {
   "cell_type": "code",
   "execution_count": 28,
   "metadata": {
    "collapsed": true
   },
   "outputs": [],
   "source": [
    "merge_member_data = pd.merge(train_data, members_data, how='left', on=['msno'])\n",
    "merge_data = pd.merge(merge_member_data, songs_data, how='left', on=['song_id'])"
   ]
  },
  {
   "cell_type": "code",
   "execution_count": 29,
   "metadata": {},
   "outputs": [
    {
     "name": "stdout",
     "output_type": "stream",
     "text": [
      "                                           msno  \\\n",
      "0  FGtllVqz18RPiwJj/edr2gV78zirAiY/9SmYvia+kCg=   \n",
      "1  Xumu+NIjS6QYVxDS4/t3SawvJ7viT9hPKXmf0RtLNx8=   \n",
      "2  Xumu+NIjS6QYVxDS4/t3SawvJ7viT9hPKXmf0RtLNx8=   \n",
      "3  Xumu+NIjS6QYVxDS4/t3SawvJ7viT9hPKXmf0RtLNx8=   \n",
      "4  FGtllVqz18RPiwJj/edr2gV78zirAiY/9SmYvia+kCg=   \n",
      "\n",
      "                                        song_id source_system_tab  \\\n",
      "0  BBzumQNXUHKdEBOB7mAJuzok+IJA1c2Ryg/yzTF6tik=           explore   \n",
      "1  bhp/MpSNoqoxOIB+/l8WPqu6jldth4DIpCm3ayXnJqM=        my library   \n",
      "2  JNWfrrC7zNN7BdMpsISKa4Mw+xVJYNnxXh3/Epw7QgY=        my library   \n",
      "3  2A87tzfnJTSWqD7gIZHisolhe4DMdzkbd6LzO1KHjNs=        my library   \n",
      "4  3qm6XTZ6MOCU11x8FIVbAGH5l5uMkT3/ZalWG1oo2Gc=           explore   \n",
      "\n",
      "    source_screen_name      source_type  target  city  bd  gender  \\\n",
      "0              Explore  online-playlist       1     1   0     NaN   \n",
      "1  Local playlist more   local-playlist       1    13  24  female   \n",
      "2  Local playlist more   local-playlist       1    13  24  female   \n",
      "3  Local playlist more   local-playlist       1    13  24  female   \n",
      "4              Explore  online-playlist       1     1   0     NaN   \n",
      "\n",
      "   registered_via registration_init_time expiration_date  song_length  \\\n",
      "0               7             2012-01-02      2017-10-05     206471.0   \n",
      "1               9             2011-05-25      2017-09-11     284584.0   \n",
      "2               9             2011-05-25      2017-09-11     225396.0   \n",
      "3               9             2011-05-25      2017-09-11     255512.0   \n",
      "4               7             2012-01-02      2017-10-05     187802.0   \n",
      "\n",
      "  genre_ids      artist_name                                 composer  \\\n",
      "0       359         Bastille                     Dan Smith| Mark Crew   \n",
      "1      1259  Various Artists                                      NaN   \n",
      "2      1259              Nas     N. Jones、W. Adams、J. Lordan、D. Ingle   \n",
      "3      1019         Soundway                            Kwadwo Donkoh   \n",
      "4      1011      Brett Young  Brett Young| Kelly Archer| Justin Ebach   \n",
      "\n",
      "  lyricist  language  \n",
      "0      NaN      52.0  \n",
      "1      NaN      52.0  \n",
      "2      NaN      52.0  \n",
      "3      NaN      -1.0  \n",
      "4      NaN      52.0  \n"
     ]
    }
   ],
   "source": [
    "print(merge_data.head())"
   ]
  },
  {
   "cell_type": "code",
   "execution_count": 30,
   "metadata": {},
   "outputs": [
    {
     "name": "stdout",
     "output_type": "stream",
     "text": [
      "(7377418, 6)\n",
      "(34403, 7)\n",
      "(2296320, 7)\n",
      "(7377418, 18)\n",
      "Index(['msno', 'song_id', 'source_system_tab', 'source_screen_name',\n",
      "       'source_type', 'target', 'city', 'bd', 'gender', 'registered_via',\n",
      "       'registration_init_time', 'expiration_date', 'song_length', 'genre_ids',\n",
      "       'artist_name', 'composer', 'lyricist', 'language'],\n",
      "      dtype='object')\n",
      "  source_system_tab   source_screen_name      source_type  city  bd  gender  \\\n",
      "0           explore              Explore  online-playlist     1   0     NaN   \n",
      "1        my library  Local playlist more   local-playlist    13  24  female   \n",
      "2        my library  Local playlist more   local-playlist    13  24  female   \n",
      "3        my library  Local playlist more   local-playlist    13  24  female   \n",
      "4           explore              Explore  online-playlist     1   0     NaN   \n",
      "\n",
      "   registered_via registration_init_time expiration_date  song_length  \\\n",
      "0               7             2012-01-02      2017-10-05     206471.0   \n",
      "1               9             2011-05-25      2017-09-11     284584.0   \n",
      "2               9             2011-05-25      2017-09-11     225396.0   \n",
      "3               9             2011-05-25      2017-09-11     255512.0   \n",
      "4               7             2012-01-02      2017-10-05     187802.0   \n",
      "\n",
      "  genre_ids      artist_name                                 composer  \\\n",
      "0       359         Bastille                     Dan Smith| Mark Crew   \n",
      "1      1259  Various Artists                                      NaN   \n",
      "2      1259              Nas     N. Jones、W. Adams、J. Lordan、D. Ingle   \n",
      "3      1019         Soundway                            Kwadwo Donkoh   \n",
      "4      1011      Brett Young  Brett Young| Kelly Archer| Justin Ebach   \n",
      "\n",
      "  lyricist  language  \n",
      "0      NaN      52.0  \n",
      "1      NaN      52.0  \n",
      "2      NaN      52.0  \n",
      "3      NaN      -1.0  \n",
      "4      NaN      52.0  \n",
      "0    1\n",
      "1    1\n",
      "2    1\n",
      "3    1\n",
      "4    1\n",
      "Name: target, dtype: int64\n"
     ]
    }
   ],
   "source": [
    "print(train_data.shape)\n",
    "print(members_data.shape)\n",
    "print(songs_data.shape)\n",
    "print(merge_data.shape)\n",
    "print(merge_data.columns)\n",
    "Y = merge_data['target']\n",
    "X = merge_data\n",
    "del X['msno']\n",
    "del X['song_id']\n",
    "del X['target']\n",
    "\n",
    "print(X.head())\n",
    "print(Y.head())\n"
   ]
  },
  {
   "cell_type": "markdown",
   "metadata": {
    "collapsed": true
   },
   "source": [
    "### 1.1 Defining the neural network structure ####\n",
    "\n",
    "**Exercise**: Define three variables:\n",
    "    - n_x: the size of the input layer\n",
    "    - n_h: the size of the hidden layer (set this to 4) \n",
    "    - n_y: the size of the output layer\n",
    "\n",
    "**Hint**: Use shapes of X and Y to find n_x and n_y. Also, hard code the hidden layer size to be 4."
   ]
  },
  {
   "cell_type": "code",
   "execution_count": 11,
   "metadata": {
    "collapsed": true
   },
   "outputs": [],
   "source": [
    "# GRADED FUNCTION: layer_sizes\n",
    "\n",
    "def layer_sizes(X, Y):\n",
    "    \"\"\"\n",
    "    Arguments:\n",
    "    X -- input dataset of shape (input size, number of examples)\n",
    "    Y -- labels of shape (output size, number of examples)\n",
    "    \n",
    "    Returns:\n",
    "    n_x -- the size of the input layer\n",
    "    n_h -- the size of the hidden layer\n",
    "    n_y -- the size of the output layer\n",
    "    \"\"\"\n",
    "    ### START CODE HERE ### (≈ 3 lines of code)\n",
    "    n_x = X.shape[0] # size of input layer\n",
    "    n_h = 4\n",
    "    n_y = Y.shape[0] # size of output layer\n",
    "    ### END CODE HERE ###\n",
    "    return (n_x, n_h, n_y)"
   ]
  },
  {
   "cell_type": "markdown",
   "metadata": {},
   "source": [
    "### 1.2 - Initialize the model's parameters ####\n",
    "\n",
    "**Exercise**: Implement the function `initialize_parameters()`.\n",
    "\n",
    "**Instructions**:\n",
    "- Make sure your parameters' sizes are right. Refer to the neural network figure above if needed.\n",
    "- You will initialize the weights matrices with random values. \n",
    "    - Use: `np.random.randn(a,b) * 0.01` to randomly initialize a matrix of shape (a,b).\n",
    "- You will initialize the bias vectors as zeros. \n",
    "    - Use: `np.zeros((a,b))` to initialize a matrix of shape (a,b) with zeros."
   ]
  },
  {
   "cell_type": "code",
   "execution_count": 12,
   "metadata": {
    "collapsed": true
   },
   "outputs": [],
   "source": [
    "# GRADED FUNCTION: initialize_parameters\n",
    "\n",
    "def initialize_parameters(n_x, n_h, n_y):\n",
    "    \"\"\"\n",
    "    Argument:\n",
    "    n_x -- size of the input layer\n",
    "    n_h -- size of the hidden layer\n",
    "    n_y -- size of the output layer\n",
    "    \n",
    "    Returns:\n",
    "    params -- python dictionary containing your parameters:\n",
    "                    W1 -- weight matrix of shape (n_h, n_x)\n",
    "                    b1 -- bias vector of shape (n_h, 1)\n",
    "                    W2 -- weight matrix of shape (n_y, n_h)\n",
    "                    b2 -- bias vector of shape (n_y, 1)\n",
    "    \"\"\"\n",
    "    \n",
    "    np.random.seed(2) # we set up a seed so that your output matches ours although the initialization is random.\n",
    "    \n",
    "    ### START CODE HERE ### (≈ 4 lines of code)\n",
    "    W1 = np.random.randn(n_h, n_x)\n",
    "    b1 = np.zeros((n_h, 1))\n",
    "    W2 = np.random.randn(n_y, n_h)\n",
    "    b2 = np.zeros((n_y, 1))\n",
    "    ### END CODE HERE ###\n",
    "    \n",
    "    assert (W1.shape == (n_h, n_x))\n",
    "    assert (b1.shape == (n_h, 1))\n",
    "    assert (W2.shape == (n_y, n_h))\n",
    "    assert (b2.shape == (n_y, 1))\n",
    "    \n",
    "    parameters = {\"W1\": W1,\n",
    "                  \"b1\": b1,\n",
    "                  \"W2\": W2,\n",
    "                  \"b2\": b2}\n",
    "    \n",
    "    return parameters"
   ]
  },
  {
   "cell_type": "markdown",
   "metadata": {},
   "source": [
    "### 1.3 - The Loop ####\n",
    "\n",
    "**Question**: Implement `forward_propagation()`.\n",
    "\n",
    "**Instructions**:\n",
    "- Look above at the mathematical representation of your classifier.\n",
    "- You can use the function `sigmoid()`. It is built-in (imported) in the notebook.\n",
    "- You can use the function `np.tanh()`. It is part of the numpy library.\n",
    "- The steps you have to implement are:\n",
    "    1. Retrieve each parameter from the dictionary \"parameters\" (which is the output of `initialize_parameters()`) by using `parameters[\"..\"]`.\n",
    "    2. Implement Forward Propagation. Compute $Z^{[1]}, A^{[1]}, Z^{[2]}$ and $A^{[2]}$ (the vector of all your predictions on all the examples in the training set).\n",
    "- Values needed in the backpropagation are stored in \"`cache`\". The `cache` will be given as an input to the backpropagation function."
   ]
  },
  {
   "cell_type": "code",
   "execution_count": 13,
   "metadata": {
    "collapsed": true
   },
   "outputs": [],
   "source": [
    "# GRADED FUNCTION: forward_propagation\n",
    "\n",
    "def forward_propagation(X, parameters):\n",
    "    \"\"\"\n",
    "    Argument:\n",
    "    X -- input data of size (n_x, m)\n",
    "    parameters -- python dictionary containing your parameters (output of initialization function)\n",
    "    \n",
    "    Returns:\n",
    "    A2 -- The sigmoid output of the second activation\n",
    "    cache -- a dictionary containing \"Z1\", \"A1\", \"Z2\" and \"A2\"\n",
    "    \"\"\"\n",
    "    # Retrieve each parameter from the dictionary \"parameters\"\n",
    "    ### START CODE HERE ### (≈ 4 lines of code)\n",
    "    W1 = parameters[\"W1\"]\n",
    "    b1 = parameters[\"b1\"]\n",
    "    W2 = parameters[\"W2\"]\n",
    "    b2 = parameters[\"b2\"]\n",
    "    ### END CODE HERE ###\n",
    "    \n",
    "    # Implement Forward Propagation to calculate A2 (probabilities)\n",
    "    ### START CODE HERE ### (≈ 4 lines of code)\n",
    "    Z1 = np.dot(W1, X) + b1\n",
    "    A1 = np.tanh(Z1)\n",
    "    Z2 = np.dot(W2, A1) + b2\n",
    "    A2 = sigmoid(Z2)\n",
    "    ### END CODE HERE ###\n",
    "    \n",
    "    assert(A2.shape == (1, X.shape[1]))\n",
    "    \n",
    "    cache = {\"Z1\": Z1,\n",
    "             \"A1\": A1,\n",
    "             \"Z2\": Z2,\n",
    "             \"A2\": A2}\n",
    "    \n",
    "    return A2, cache"
   ]
  },
  {
   "cell_type": "markdown",
   "metadata": {},
   "source": [
    "#### 1.4 Cost Function\n",
    "\n",
    "Now that you have computed $A^{[2]}$ (in the Python variable \"`A2`\"), which contains $a^{[2](i)}$ for every example, you can compute the cost function as follows:\n",
    "\n",
    "$$J = - \\frac{1}{m} \\sum\\limits_{i = 0}^{m} \\large{(} \\small y^{(i)}\\log\\left(a^{[2] (i)}\\right) + (1-y^{(i)})\\log\\left(1- a^{[2] (i)}\\right) \\large{)} \\small\\tag{13}$$\n",
    "\n",
    "**Exercise**: Implement `compute_cost()` to compute the value of the cost $J$.\n",
    "\n",
    "**Instructions**:\n",
    "- There are many ways to implement the cross-entropy loss. To help you, we give you how we would have implemented\n",
    "$- \\sum\\limits_{i=0}^{m}  y^{(i)}\\log(a^{[2](i)})$:\n",
    "```python\n",
    "logprobs = np.multiply(np.log(A2),Y)\n",
    "cost = - np.sum(logprobs)                # no need to use a for loop!\n",
    "```\n",
    "\n",
    "(you can use either `np.multiply()` and then `np.sum()` or directly `np.dot()`).\n"
   ]
  },
  {
   "cell_type": "code",
   "execution_count": 14,
   "metadata": {
    "collapsed": true
   },
   "outputs": [],
   "source": [
    "# GRADED FUNCTION: compute_cost\n",
    "\n",
    "def compute_cost(A2, Y, parameters):\n",
    "    \"\"\"\n",
    "    Computes the cross-entropy cost given in equation (13)\n",
    "    \n",
    "    Arguments:\n",
    "    A2 -- The sigmoid output of the second activation, of shape (1, number of examples)\n",
    "    Y -- \"true\" labels vector of shape (1, number of examples)\n",
    "    parameters -- python dictionary containing your parameters W1, b1, W2 and b2\n",
    "    \n",
    "    Returns:\n",
    "    cost -- cross-entropy cost given equation (13)\n",
    "    \"\"\"\n",
    "    \n",
    "    m = Y.shape[1] # number of example\n",
    "\n",
    "    # Compute the cross-entropy cost\n",
    "    ### START CODE HERE ### (≈ 2 lines of code)\n",
    "    logprobs = np.multiply(np.log(A2),Y)+np.multiply(np.log(1-A2), 1-Y)\n",
    "    cost = np.sum(logprobs)/(-m)\n",
    "    ### END CODE HERE ###\n",
    "    \n",
    "    cost = np.squeeze(cost)     # makes sure cost is the dimension we expect. \n",
    "                                # E.g., turns [[17]] into 17 \n",
    "    assert(isinstance(cost, float))\n",
    "    \n",
    "    return cost"
   ]
  },
  {
   "cell_type": "markdown",
   "metadata": {},
   "source": [
    "#### 1.5 backward_propagation\n",
    "\n",
    "Using the cache computed during forward propagation, you can now implement backward propagation.\n",
    "\n",
    "**Question**: Implement the function `backward_propagation()`.\n",
    "\n",
    "**Instructions**:\n",
    "Backpropagation is usually the hardest (most mathematical) part in deep learning. To help you, here again is the slide from the lecture on backpropagation. You'll want to use the six equations on the right of this slide, since you are building a vectorized implementation.  "
   ]
  },
  {
   "cell_type": "code",
   "execution_count": 15,
   "metadata": {
    "collapsed": true
   },
   "outputs": [],
   "source": [
    "# GRADED FUNCTION: backward_propagation\n",
    "\n",
    "def backward_propagation(parameters, cache, X, Y):\n",
    "    \"\"\"\n",
    "    Implement the backward propagation using the instructions above.\n",
    "    \n",
    "    Arguments:\n",
    "    parameters -- python dictionary containing our parameters \n",
    "    cache -- a dictionary containing \"Z1\", \"A1\", \"Z2\" and \"A2\".\n",
    "    X -- input data of shape (2, number of examples)\n",
    "    Y -- \"true\" labels vector of shape (1, number of examples)\n",
    "    \n",
    "    Returns:\n",
    "    grads -- python dictionary containing your gradients with respect to different parameters\n",
    "    \"\"\"\n",
    "    m = X.shape[1]\n",
    "    \n",
    "    # First, retrieve W1 and W2 from the dictionary \"parameters\".\n",
    "    ### START CODE HERE ### (≈ 2 lines of code)\n",
    "    W1 = parameters[\"W1\"]\n",
    "    W2 = parameters[\"W2\"]\n",
    "    ### END CODE HERE ###\n",
    "        \n",
    "    # Retrieve also A1 and A2 from dictionary \"cache\".\n",
    "    ### START CODE HERE ### (≈ 2 lines of code)\n",
    "    A1 = cache[\"A1\"]\n",
    "    A2 = cache[\"A2\"]\n",
    "    ### END CODE HERE ###\n",
    "    \n",
    "    # Backward propagation: calculate dW1, db1, dW2, db2. \n",
    "    ### START CODE HERE ### (≈ 6 lines of code, corresponding to 6 equations on slide above)\n",
    "    dZ2 = A2 - Y\n",
    "    dW2 = np.dot(dZ2,A1.T)/m\n",
    "    db2 = np.sum(dZ2,axis=1,keepdims=True)/m\n",
    "    dZ1 = np.dot(W2.T,dZ2)*(1-np.power(A1,2))\n",
    "    dW1 = np.dot(dZ1,X.T)/m\n",
    "    db1 = np.sum(dZ1,axis=1,keepdims=True)/m\n",
    "    ### END CODE HERE ###\n",
    "    \n",
    "    grads = {\"dW1\": dW1,\n",
    "             \"db1\": db1,\n",
    "             \"dW2\": dW2,\n",
    "             \"db2\": db2}\n",
    "    \n",
    "    return grads"
   ]
  },
  {
   "cell_type": "markdown",
   "metadata": {},
   "source": [
    "#### 1.6 update-parameters\n",
    "\n",
    "**Question**: Implement the update rule. Use gradient descent. You have to use (dW1, db1, dW2, db2) in order to update (W1, b1, W2, b2).\n",
    "\n",
    "**General gradient descent rule**: $ \\theta = \\theta - \\alpha \\frac{\\partial J }{ \\partial \\theta }$ where $\\alpha$ is the learning rate and $\\theta$ represents a parameter.\n",
    "\n",
    "**Illustration**: The gradient descent algorithm with a good learning rate (converging) and a bad learning rate (diverging). Images courtesy of Adam Harley."
   ]
  },
  {
   "cell_type": "code",
   "execution_count": 17,
   "metadata": {
    "collapsed": true
   },
   "outputs": [],
   "source": [
    "# GRADED FUNCTION: update_parameters\n",
    "\n",
    "def update_parameters(parameters, grads, learning_rate = 1.2):\n",
    "    \"\"\"\n",
    "    Updates parameters using the gradient descent update rule given above\n",
    "    \n",
    "    Arguments:\n",
    "    parameters -- python dictionary containing your parameters \n",
    "    grads -- python dictionary containing your gradients \n",
    "    \n",
    "    Returns:\n",
    "    parameters -- python dictionary containing your updated parameters \n",
    "    \"\"\"\n",
    "    # Retrieve each parameter from the dictionary \"parameters\"\n",
    "    ### START CODE HERE ### (≈ 4 lines of code)\n",
    "    W1 = parameters[\"W1\"]\n",
    "    b1 = parameters[\"b1\"]\n",
    "    W2 = parameters[\"W2\"]\n",
    "    b2 = parameters[\"b2\"]\n",
    "    ### END CODE HERE ###\n",
    "    \n",
    "    # Retrieve each gradient from the dictionary \"grads\"\n",
    "    ### START CODE HERE ### (≈ 4 lines of code)\n",
    "    dW1 = grads[\"dW1\"]\n",
    "    db1 = grads[\"db1\"]\n",
    "    dW2 = grads[\"dW2\"]\n",
    "    db2 = grads[\"db2\"]\n",
    "    ## END CODE HERE ###\n",
    "    \n",
    "    # Update rule for each parameter\n",
    "    ### START CODE HERE ### (≈ 4 lines of code)\n",
    "    W1 = W1 - learning_rate*dW1\n",
    "    b1 = b1 - learning_rate*db1\n",
    "    W2 = W2 - learning_rate*dW2\n",
    "    b2 = b2 - learning_rate*db2\n",
    "    ### END CODE HERE ###\n",
    "    \n",
    "    parameters = {\"W1\": W1,\n",
    "                  \"b1\": b1,\n",
    "                  \"W2\": W2,\n",
    "                  \"b2\": b2}\n",
    "    \n",
    "    return parameters"
   ]
  },
  {
   "cell_type": "markdown",
   "metadata": {},
   "source": [
    "### 1.7 - Integrate in nn_model() ####\n",
    "\n",
    "**Question**: Build your neural network model in `nn_model()`.\n",
    "\n",
    "**Instructions**: The neural network model has to use the previous functions in the right order."
   ]
  },
  {
   "cell_type": "code",
   "execution_count": 18,
   "metadata": {
    "collapsed": true
   },
   "outputs": [],
   "source": [
    "# GRADED FUNCTION: nn_model\n",
    "\n",
    "def nn_model(X, Y, n_h, num_iterations = 10000, print_cost=False):\n",
    "    \"\"\"\n",
    "    Arguments:\n",
    "    X -- dataset of shape (2, number of examples)\n",
    "    Y -- labels of shape (1, number of examples)\n",
    "    n_h -- size of the hidden layer\n",
    "    num_iterations -- Number of iterations in gradient descent loop\n",
    "    print_cost -- if True, print the cost every 1000 iterations\n",
    "    \n",
    "    Returns:\n",
    "    parameters -- parameters learnt by the model. They can then be used to predict.\n",
    "    \"\"\"\n",
    "    \n",
    "    np.random.seed(3)\n",
    "    n_x = layer_sizes(X, Y)[0]\n",
    "    n_y = layer_sizes(X, Y)[2]\n",
    "    \n",
    "    # Initialize parameters, then retrieve W1, b1, W2, b2. Inputs: \"n_x, n_h, n_y\". Outputs = \"W1, b1, W2, b2, parameters\".\n",
    "    ### START CODE HERE ### (≈ 5 lines of code)\n",
    "    parameters = initialize_parameters(n_x, n_h, n_y)\n",
    "    W1 = parameters[\"W1\"]\n",
    "    b1 = parameters[\"b1\"]\n",
    "    W2 = parameters[\"W2\"]\n",
    "    b2 = parameters[\"b2\"]\n",
    "    ### END CODE HERE ###\n",
    "    \n",
    "    # Loop (gradient descent)\n",
    "\n",
    "    for i in range(0, num_iterations):\n",
    "         \n",
    "        ### START CODE HERE ### (≈ 4 lines of code)\n",
    "        # Forward propagation. Inputs: \"X, parameters\". Outputs: \"A2, cache\".\n",
    "        A2, cache = forward_propagation(X, parameters)\n",
    "        \n",
    "        # Cost function. Inputs: \"A2, Y, parameters\". Outputs: \"cost\".\n",
    "        cost = compute_cost(A2, Y, parameters)\n",
    " \n",
    "        # Backpropagation. Inputs: \"parameters, cache, X, Y\". Outputs: \"grads\".\n",
    "        grads = backward_propagation(parameters, cache, X, Y)\n",
    " \n",
    "        # Gradient descent parameter update. Inputs: \"parameters, grads\". Outputs: \"parameters\".\n",
    "        parameters = update_parameters(parameters, grads)\n",
    "        \n",
    "        ### END CODE HERE ###\n",
    "        \n",
    "        # Print the cost every 1000 iterations\n",
    "        if print_cost and i % 1000 == 0:\n",
    "            print (\"Cost after iteration %i: %f\" %(i, cost))\n",
    "\n",
    "    return parameters"
   ]
  },
  {
   "cell_type": "markdown",
   "metadata": {},
   "source": [
    "### 1.8 Predictions\n",
    "\n",
    "**Question**: Use your model to predict by building predict().\n",
    "Use forward propagation to predict results.\n",
    "\n",
    "**Reminder**: predictions = $y_{prediction} = \\mathbb 1 \\text{{activation > 0.5}} = \\begin{cases}\n",
    "      1 & \\text{if}\\ activation > 0.5 \\\\\n",
    "      0 & \\text{otherwise}\n",
    "    \\end{cases}$  \n",
    "    \n",
    "As an example, if you would like to set the entries of a matrix X to 0 and 1 based on a threshold you would do: ```X_new = (X > threshold)```"
   ]
  },
  {
   "cell_type": "code",
   "execution_count": 19,
   "metadata": {
    "collapsed": true
   },
   "outputs": [],
   "source": [
    "# GRADED FUNCTION: predict\n",
    "\n",
    "def predict(parameters, X):\n",
    "    \"\"\"\n",
    "    Using the learned parameters, predicts a class for each example in X\n",
    "    \n",
    "    Arguments:\n",
    "    parameters -- python dictionary containing your parameters \n",
    "    X -- input data of size (n_x, m)\n",
    "    \n",
    "    Returns\n",
    "    predictions -- vector of predictions of our model (red: 0 / blue: 1)\n",
    "    \"\"\"\n",
    "    \n",
    "    # Computes probabilities using forward propagation, and classifies to 0/1 using 0.5 as the threshold.\n",
    "    ### START CODE HERE ### (≈ 2 lines of code)\n",
    "    A2, cache = forward_propagation(X, parameters)\n",
    "    predictions = (A2 > 0.5)\n",
    "    ### END CODE HERE ###\n",
    "    \n",
    "    return predictions"
   ]
  },
  {
   "cell_type": "markdown",
   "metadata": {},
   "source": [
    "#### Test"
   ]
  },
  {
   "cell_type": "code",
   "execution_count": null,
   "metadata": {
    "collapsed": true
   },
   "outputs": [],
   "source": [
    "\n",
    "parameters = nn_model(X, Y, n_h = 4, num_iterations = 10000, print_cost=True)\n",
    "predictions = predict(parameters, X)"
   ]
  }
 ],
 "metadata": {
  "kernelspec": {
   "display_name": "Python 3",
   "language": "python",
   "name": "python3"
  },
  "language_info": {
   "codemirror_mode": {
    "name": "ipython",
    "version": 3
   },
   "file_extension": ".py",
   "mimetype": "text/x-python",
   "name": "python",
   "nbconvert_exporter": "python",
   "pygments_lexer": "ipython3",
   "version": "3.6.2"
  }
 },
 "nbformat": 4,
 "nbformat_minor": 2
}
